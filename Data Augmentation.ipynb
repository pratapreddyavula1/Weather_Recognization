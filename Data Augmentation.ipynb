{
 "cells": [
  {
   "cell_type": "markdown",
   "id": "5d99dd70",
   "metadata": {},
   "source": [
    "# Image Classification"
   ]
  },
  {
   "cell_type": "markdown",
   "id": "5d5d59d9",
   "metadata": {},
   "source": [
    "# Aim\n",
    "\n",
    " Perform Image classification analysis using CNN architecture for the given dataset\n",
    " \n",
    "     Note:- Dataset taken from \"https://data.mendeley.com/datasets/4drtyfjtfy/1\""
   ]
  },
  {
   "cell_type": "markdown",
   "id": "47da4632",
   "metadata": {},
   "source": [
    "# Process Info()......\n",
    "\n",
    "1.Importing libraries...\n",
    "\n",
    "\n",
    "2.ImageDataGenerating....Cloud,Shine,Rain,Sunrise\n",
    "\n",
    "\n",
    "3.Appending All images into a datasets....\n",
    "    =>Converted all Datsets from int to Float \n",
    "    \n",
    "    \n",
    "4.Assigned Labeling for Recognization.\n",
    "\n",
    "\n",
    "5.Applying CNN Archiecture\n",
    "    =>Input Layer\n",
    "    =>Taken 3 Conv2d layers(3,3) \n",
    "    =>Dense Layers(512)\n",
    "    =>Flattend the layers\n",
    "    =>Output Layer\n",
    "    \n",
    "    \n",
    " 6.Imported the Categorical,Train_test_split\n",
    " \n",
    " \n",
    " 7.Compiled and fitted tha data \n",
    " \n",
    " \n",
    " 8.Evaluvated the test and train score\n",
    " \n",
    " \n",
    " \n",
    " 9.Prdicted the Image.....\n",
    "    \n",
    "    "
   ]
  },
  {
   "cell_type": "code",
   "execution_count": 1,
   "id": "ab214bba",
   "metadata": {},
   "outputs": [],
   "source": [
    "#importing Libraries......\n",
    "import tensorflow as tf\n",
    "from  tensorflow import keras\n",
    "from tensorflow.keras.preprocessing.image import ImageDataGenerator\n",
    "from PIL import Image\n",
    "import numpy as np\n",
    "import pandas as pd\n",
    "import cv2\n",
    "from skimage import io\n",
    "import os\n",
    "import matplotlib.pyplot as plt"
   ]
  },
  {
   "cell_type": "code",
   "execution_count": 2,
   "id": "3f59f020",
   "metadata": {},
   "outputs": [],
   "source": [
    "address=\"D:\\\\WeatherRecognisation\\\\\" #saving file Location into Address Variable"
   ]
  },
  {
   "cell_type": "code",
   "execution_count": 3,
   "id": "22904529",
   "metadata": {},
   "outputs": [],
   "source": [
    "cloud=os.listdir(address+\"Cloudy\")#Saving all cloud Images into Cloud Variable"
   ]
  },
  {
   "cell_type": "code",
   "execution_count": 4,
   "id": "a8809e72",
   "metadata": {},
   "outputs": [
    {
     "data": {
      "text/plain": [
       "300"
      ]
     },
     "execution_count": 4,
     "metadata": {},
     "output_type": "execute_result"
    }
   ],
   "source": [
    "len(cloud)"
   ]
  },
  {
   "cell_type": "markdown",
   "id": "1830f834",
   "metadata": {},
   "source": [
    "# Image Data Generator.....\n",
    "\n",
    "=>ImageDataGenerator class ensures that the model receives new variations of the images at each epoch. But it only returns the transformed images and does not add it to the original  images."
   ]
  },
  {
   "cell_type": "code",
   "execution_count": 5,
   "id": "cbb43a17",
   "metadata": {},
   "outputs": [],
   "source": [
    "img_gen=ImageDataGenerator(rotation_range=45,width_shift_range=0.20,height_shift_range=0.20,shear_range=0.20,zoom_range=0.20,fill_mode='constant',\n",
    "    cval=125,\n",
    "    horizontal_flip=True,\n",
    "    vertical_flip=True) #Assigning Requirements and ranges for Images"
   ]
  },
  {
   "cell_type": "markdown",
   "id": "09a2f86b",
   "metadata": {},
   "source": [
    "# Generating Cloud Images by using Image data Generator"
   ]
  },
  {
   "cell_type": "code",
   "execution_count": 6,
   "id": "270fa5f3",
   "metadata": {},
   "outputs": [],
   "source": [
    "datacloud=[] #To append Cloud Images created a Dataset"
   ]
  },
  {
   "cell_type": "code",
   "execution_count": 7,
   "id": "70ba1758",
   "metadata": {},
   "outputs": [],
   "source": [
    "#Resizing and reading and appending all cloud images into DataCloud\n",
    "for i,imagecloud in enumerate(cloud):\n",
    "    if imagecloud.split(\".\")[1]==\"jpg\":#Taking only jpg Files\n",
    "        image=plt.imread(address+\"cloudy\\\\\"+imagecloud)#Reading cloud Images \n",
    "        image=cv2.resize(image,(128,128))#resizing the images using Computer Vision\n",
    "        if image.shape==(128,128,3):\n",
    "            datacloud.append(np.array(image))"
   ]
  },
  {
   "cell_type": "code",
   "execution_count": 11,
   "id": "d22601f1",
   "metadata": {},
   "outputs": [],
   "source": [
    "a_datacloud=np.array(datacloud)#converting the dtype=uint8 to Float32"
   ]
  },
  {
   "cell_type": "code",
   "execution_count": 12,
   "id": "47d6eae9",
   "metadata": {},
   "outputs": [
    {
     "data": {
      "text/plain": [
       "(298, 128, 128, 3)"
      ]
     },
     "execution_count": 12,
     "metadata": {},
     "output_type": "execute_result"
    }
   ],
   "source": [
    "a_datacloud.shape"
   ]
  },
  {
   "cell_type": "code",
   "execution_count": 13,
   "id": "933e2f7b",
   "metadata": {},
   "outputs": [],
   "source": [
    "#Generating each image into 50 times without effecting the Orginal Images\n",
    "#Saving genrated images into jpg Files........Save_format=\"jpg\"\n",
    "#saving the generated images with  Aug name...Save_prefix=\"Aug\"\n",
    "\n",
    "c=0\n",
    "for image_batch in img_gen.flow(a_datacloud,batch_size=50,save_to_dir=address+\"cloudy\", save_prefix='Aug',save_format='jpg'):\n",
    "    c=c+1\n",
    "    if c>=50:\n",
    "        break\n",
    "        "
   ]
  },
  {
   "cell_type": "markdown",
   "id": "32e76d3d",
   "metadata": {},
   "source": [
    "# Generating Rain Images by using Image data Generator"
   ]
  },
  {
   "cell_type": "code",
   "execution_count": 15,
   "id": "97414cad",
   "metadata": {},
   "outputs": [],
   "source": [
    "rain=os.listdir(address+\"Rain\")"
   ]
  },
  {
   "cell_type": "code",
   "execution_count": 16,
   "id": "7a6d52cf",
   "metadata": {},
   "outputs": [],
   "source": [
    "datarain1=[] #To append Rain Images created a Dataset"
   ]
  },
  {
   "cell_type": "code",
   "execution_count": 17,
   "id": "6596f016",
   "metadata": {},
   "outputs": [],
   "source": [
    "#Resizing and reading and appending all cloud images into Datarain\n",
    "for j,imagerain in enumerate(rain):\n",
    "    if imagecloud.split(\".\")[1]==\"jpg\":#Taking only jpg Files\n",
    "        image=plt.imread(address+\"Rain\\\\\"+imagerain)#Reading rainImages\n",
    "        image=cv2.resize(image,(128,128))#resizing the images using Computer Vision\n",
    "        if image.shape == (128,128,3):\n",
    "            datarain1.append(np.array(image))"
   ]
  },
  {
   "cell_type": "code",
   "execution_count": 23,
   "id": "b3915d7e",
   "metadata": {},
   "outputs": [],
   "source": [
    "a_datarain=np.array(datarain1)#converting the dtype=uint8 to Float32"
   ]
  },
  {
   "cell_type": "code",
   "execution_count": 24,
   "id": "56cff13b",
   "metadata": {},
   "outputs": [
    {
     "data": {
      "text/plain": [
       "(212, 128, 128, 3)"
      ]
     },
     "execution_count": 24,
     "metadata": {},
     "output_type": "execute_result"
    }
   ],
   "source": [
    "a_datarain.shape"
   ]
  },
  {
   "cell_type": "code",
   "execution_count": 25,
   "id": "49c8ffba",
   "metadata": {},
   "outputs": [
    {
     "data": {
      "text/plain": [
       "215"
      ]
     },
     "execution_count": 25,
     "metadata": {},
     "output_type": "execute_result"
    }
   ],
   "source": [
    "len(rain)"
   ]
  },
  {
   "cell_type": "code",
   "execution_count": 26,
   "id": "25e2b5da",
   "metadata": {},
   "outputs": [],
   "source": [
    "#Generating each image into 50 times without effecting the Orginal Images\n",
    "#Saving genrated images into jpg Files........Save_format=\"jpg\"\n",
    "#saving the generated images with  Aug name...Save_prefix=\"Aug\"\n",
    "\n",
    "c=0\n",
    "for image_batch in img_gen.flow(a_datarain,batch_size=50,save_to_dir=address+\"Rain\", save_prefix='Aug',save_format='jpg'):\n",
    "    c=c+1\n",
    "    if c>=50:\n",
    "        break"
   ]
  },
  {
   "cell_type": "markdown",
   "id": "53682a96",
   "metadata": {},
   "source": [
    "# Generating sunrise Images by using Image data Generator"
   ]
  },
  {
   "cell_type": "code",
   "execution_count": 27,
   "id": "a140a96a",
   "metadata": {},
   "outputs": [],
   "source": [
    "sunrise=os.listdir(address+\"SunRise\")"
   ]
  },
  {
   "cell_type": "code",
   "execution_count": 28,
   "id": "96955485",
   "metadata": {},
   "outputs": [],
   "source": [
    "datasunrise=[] #To append sunrise Images created a Dataset"
   ]
  },
  {
   "cell_type": "code",
   "execution_count": 29,
   "id": "d0ca8c07",
   "metadata": {},
   "outputs": [],
   "source": [
    "#Resizing and reading and appending all cloud images into Datasunrise\n",
    "for k,imagesunrise in enumerate(sunrise):\n",
    "    if imagesunrise.split(\".\")[1]==\"jpg\":\n",
    "        image=plt.imread(address+\"SunRise\\\\\"+imagesunrise)#Reading sunrise Images\n",
    "        image=cv2.resize(image,(128,128))#resizing the images using Computer Vision\n",
    "        if image.shape == (128,128,3):\n",
    "            datasunrise.append(np.array(image))"
   ]
  },
  {
   "cell_type": "code",
   "execution_count": 30,
   "id": "162d917a",
   "metadata": {},
   "outputs": [],
   "source": [
    "a_datasunise=np.array(datasunrise)#converting the dtype=uint8 to Float32"
   ]
  },
  {
   "cell_type": "code",
   "execution_count": 36,
   "id": "7e13ea77",
   "metadata": {
    "scrolled": false
   },
   "outputs": [
    {
     "data": {
      "text/plain": [
       "(356, 128, 128, 3)"
      ]
     },
     "execution_count": 36,
     "metadata": {},
     "output_type": "execute_result"
    }
   ],
   "source": [
    "a_datasunise.shape"
   ]
  },
  {
   "cell_type": "code",
   "execution_count": 37,
   "id": "20b1a2c5",
   "metadata": {},
   "outputs": [],
   "source": [
    "c=0\n",
    "for image_batch in img_gen.flow(a_datasunise,batch_size=50,save_to_dir=address+\"SunRise\", save_prefix='Aug',save_format='jpg'):\n",
    "    c=c+1\n",
    "    if c>=50:\n",
    "        break"
   ]
  },
  {
   "cell_type": "markdown",
   "id": "72c0c5d6",
   "metadata": {},
   "source": [
    "# Generating Shine Images by using Image data Generato"
   ]
  },
  {
   "cell_type": "code",
   "execution_count": 38,
   "id": "323a2d4a",
   "metadata": {},
   "outputs": [],
   "source": [
    "shine=os.listdir(address+\"Shine\")"
   ]
  },
  {
   "cell_type": "code",
   "execution_count": 39,
   "id": "e20bdd0b",
   "metadata": {},
   "outputs": [],
   "source": [
    "datashine=[]#dataset"
   ]
  },
  {
   "cell_type": "code",
   "execution_count": 44,
   "id": "bb3783a5",
   "metadata": {},
   "outputs": [],
   "source": [
    "#Resizing and reading and appending all cloud images into Datashine\n",
    "for l,imageshine in enumerate(shine):\n",
    "    if imageshine.split(\".\")[1]==\"jpg\":#Taking only jpg Files\n",
    "        image=plt.imread(address+\"Shine\\\\\"+imageshine)#Reading sunrise Images\n",
    "        image=cv2.resize(image,(128,128))#resizing the images using Computer Vision\n",
    "        if image.shape == (128,128,3):\n",
    "            datashine.append(np.array(image))"
   ]
  },
  {
   "cell_type": "code",
   "execution_count": 45,
   "id": "ccbb46a4",
   "metadata": {},
   "outputs": [],
   "source": [
    "a_datashine=np.array(datashine)"
   ]
  },
  {
   "cell_type": "code",
   "execution_count": 46,
   "id": "54ba1e50",
   "metadata": {},
   "outputs": [
    {
     "data": {
      "text/plain": [
       "(251, 128, 128, 3)"
      ]
     },
     "execution_count": 46,
     "metadata": {},
     "output_type": "execute_result"
    }
   ],
   "source": [
    "a_datashine.shape"
   ]
  },
  {
   "cell_type": "code",
   "execution_count": 47,
   "id": "b84fe8c2",
   "metadata": {},
   "outputs": [],
   "source": [
    "c=0\n",
    "for image_batch in img_gen.flow(a_datashine,batch_size=50,save_to_dir=address+\"Shine\", save_prefix='Aug',save_format='jpg'):\n",
    "    c=c+1\n",
    "    if c>=50:\n",
    "        break"
   ]
  },
  {
   "cell_type": "markdown",
   "id": "6979f971",
   "metadata": {},
   "source": [
    "# CNN(Convolutional Neural Network):........\n",
    "=>Convolutional Neural Network or CNN is a type of artificial neural network, which is widely used for image/object recognition and classification\n",
    "\n",
    "=>> CNN takes an image as an input, processes it, and classifies it under certain categories."
   ]
  },
  {
   "cell_type": "markdown",
   "id": "0a0e1a5f",
   "metadata": {},
   "source": [
    "# Cloud Images"
   ]
  },
  {
   "cell_type": "code",
   "execution_count": 52,
   "id": "60782a1d",
   "metadata": {},
   "outputs": [],
   "source": [
    "cloud=os.listdir(address+\"Cloudy\")#Saving all cloud Images into Cloud Variable"
   ]
  },
  {
   "cell_type": "code",
   "execution_count": 51,
   "id": "b969d3a3",
   "metadata": {
    "scrolled": true
   },
   "outputs": [
    {
     "data": {
      "text/plain": [
       "2783"
      ]
     },
     "execution_count": 51,
     "metadata": {},
     "output_type": "execute_result"
    }
   ],
   "source": [
    "len(cloud)"
   ]
  },
  {
   "cell_type": "code",
   "execution_count": 53,
   "id": "12c600b8",
   "metadata": {},
   "outputs": [],
   "source": [
    "totaldata1=[]\n",
    "label=[]\n",
    "size=128"
   ]
  },
  {
   "cell_type": "code",
   "execution_count": 54,
   "id": "a70dc287",
   "metadata": {},
   "outputs": [],
   "source": [
    "for x1,imagecloud in enumerate(cloud):\n",
    "    if imagecloud.split(\".\")[1]==\"jpg\":\n",
    "        image =plt.imread(address+\"cloudy\\\\\"+imagecloud)\n",
    "        if image.shape==(128,128,3):\n",
    "            totaldata1.append(np.array(image))#appending cloud images to totaldata1\n",
    "            label.append(1)#Assigning label-1 to all cloud Images"
   ]
  },
  {
   "cell_type": "code",
   "execution_count": 60,
   "id": "33d3bc18",
   "metadata": {},
   "outputs": [
    {
     "data": {
      "text/plain": [
       "2483"
      ]
     },
     "execution_count": 60,
     "metadata": {},
     "output_type": "execute_result"
    }
   ],
   "source": [
    "len(totaldata1)#length Of Totaldata set"
   ]
  },
  {
   "cell_type": "markdown",
   "id": "08868bd9",
   "metadata": {},
   "source": [
    "# Rain Images"
   ]
  },
  {
   "cell_type": "code",
   "execution_count": 61,
   "id": "3bf35253",
   "metadata": {},
   "outputs": [],
   "source": [
    "rain=os.listdir(address+\"Rain\")#Saving all Rain  Images into rain Variable"
   ]
  },
  {
   "cell_type": "code",
   "execution_count": 62,
   "id": "ccc5c213",
   "metadata": {},
   "outputs": [],
   "source": [
    "for x1,imagerain in enumerate(rain):\n",
    "    if imagerain.split(\".\")[1]==\"jpg\":\n",
    "        image =plt.imread(address+\"Rain\\\\\"+imagerain)\n",
    "        if image.shape==(128,128,3):\n",
    "            totaldata1.append(np.array(image))\n",
    "            label.append(2)#Assigning label-2 to rain Imgaes"
   ]
  },
  {
   "cell_type": "code",
   "execution_count": 63,
   "id": "77f35dfd",
   "metadata": {},
   "outputs": [
    {
     "data": {
      "text/plain": [
       "4601"
      ]
     },
     "execution_count": 63,
     "metadata": {},
     "output_type": "execute_result"
    }
   ],
   "source": [
    "len(totaldata1)"
   ]
  },
  {
   "cell_type": "markdown",
   "id": "8fcc5a0b",
   "metadata": {},
   "source": [
    "# Shine Images "
   ]
  },
  {
   "cell_type": "code",
   "execution_count": 64,
   "id": "7a3adf28",
   "metadata": {},
   "outputs": [],
   "source": [
    "shine=os.listdir(address+\"Shine\")#Saving all Shine Images into Shine Variable"
   ]
  },
  {
   "cell_type": "code",
   "execution_count": 65,
   "id": "7cc3ab28",
   "metadata": {},
   "outputs": [],
   "source": [
    "for x1,imageshine in enumerate(shine):\n",
    "    if imageshine.split(\".\")[1]==\"jpg\":\n",
    "        image =plt.imread(address+\"Shine\\\\\"+imageshine)\n",
    "        if image.shape==(128,128,3):\n",
    "            totaldata1.append(np.array(image))\n",
    "            label.append(3)#Assigning label-3 to Shine Imgaes"
   ]
  },
  {
   "cell_type": "code",
   "execution_count": 66,
   "id": "9fad35ef",
   "metadata": {
    "scrolled": true
   },
   "outputs": [
    {
     "data": {
      "text/plain": [
       "6708"
      ]
     },
     "execution_count": 66,
     "metadata": {},
     "output_type": "execute_result"
    }
   ],
   "source": [
    "len(totaldata1)"
   ]
  },
  {
   "cell_type": "markdown",
   "id": "54dcfc65",
   "metadata": {},
   "source": [
    "# SunRise Images"
   ]
  },
  {
   "cell_type": "code",
   "execution_count": 69,
   "id": "45868af1",
   "metadata": {},
   "outputs": [],
   "source": [
    "sunrise=os.listdir(address+\"SunRise\")"
   ]
  },
  {
   "cell_type": "code",
   "execution_count": 70,
   "id": "88a9b509",
   "metadata": {},
   "outputs": [
    {
     "data": {
      "text/plain": [
       "2593"
      ]
     },
     "execution_count": 70,
     "metadata": {},
     "output_type": "execute_result"
    }
   ],
   "source": [
    "len(sunrise)"
   ]
  },
  {
   "cell_type": "code",
   "execution_count": 71,
   "id": "db25555b",
   "metadata": {},
   "outputs": [],
   "source": [
    "for x1,imagesunrise in enumerate(sunrise):\n",
    "    if imagesunrise.split(\".\")[1]==\"jpg\":\n",
    "        image =plt.imread(address+\"SunRise\\\\\"+imagesunrise)\n",
    "        \n",
    "        if image.shape==(128,128,3):\n",
    "            totaldata1.append(np.array(image))\n",
    "            label.append(4)#Assigning Label-4 to Sunrise Images "
   ]
  },
  {
   "cell_type": "code",
   "execution_count": 72,
   "id": "d365edba",
   "metadata": {
    "scrolled": true
   },
   "outputs": [
    {
     "data": {
      "text/plain": [
       "8944"
      ]
     },
     "execution_count": 72,
     "metadata": {},
     "output_type": "execute_result"
    }
   ],
   "source": [
    "len(totaldata1)"
   ]
  },
  {
   "cell_type": "markdown",
   "id": "7371bbb7",
   "metadata": {},
   "source": [
    "# importing Model and Layers"
   ]
  },
  {
   "cell_type": "code",
   "execution_count": 74,
   "id": "705b20cd",
   "metadata": {},
   "outputs": [],
   "source": [
    "from tensorflow.keras import layers"
   ]
  },
  {
   "cell_type": "code",
   "execution_count": 75,
   "id": "2fccb10b",
   "metadata": {},
   "outputs": [],
   "source": [
    "from tensorflow.keras.models import Model"
   ]
  },
  {
   "cell_type": "markdown",
   "id": "0dbcb552",
   "metadata": {},
   "source": [
    "# Input Layer\n"
   ]
  },
  {
   "cell_type": "code",
   "execution_count": 76,
   "id": "5591e6f4",
   "metadata": {},
   "outputs": [],
   "source": [
    "input_1=layers.Input(shape=(size,size,3))"
   ]
  },
  {
   "cell_type": "markdown",
   "id": "c7c8b70c",
   "metadata": {},
   "source": [
    "# First Convo2D Layer"
   ]
  },
  {
   "cell_type": "code",
   "execution_count": 77,
   "id": "622dcf7d",
   "metadata": {},
   "outputs": [],
   "source": [
    "con1=layers.Conv2D(32,kernel_size=(3,3),activation=\"relu\",padding=\"same\")(input_1)# Rectified Linear Unit, ƒ(x) = max(0,x).\n",
    "max1=layers.MaxPool2D((2,2))(con1)#Reduce the dimention\n",
    "nor1=layers.BatchNormalization(axis=-1)(max1)\n",
    "drop1=layers.Dropout(0.20)(nor1)"
   ]
  },
  {
   "cell_type": "markdown",
   "id": "5293c81f",
   "metadata": {},
   "source": [
    "# Second Convo2D Layer"
   ]
  },
  {
   "cell_type": "code",
   "execution_count": 78,
   "id": "51a9419f",
   "metadata": {},
   "outputs": [],
   "source": [
    "con2=layers.Conv2D(32,kernel_size=(3,3),activation=\"relu\",padding=\"same\")(nor1)\n",
    "max2=layers.MaxPool2D((2,2))(con2)#also called as subsampling or dow sampling\n",
    "nor2=layers.BatchNormalization(axis=-1)(max2)\n",
    "drop2=layers.Dropout(0.20)(nor2)"
   ]
  },
  {
   "cell_type": "markdown",
   "id": "49e976c4",
   "metadata": {},
   "source": [
    "# Third Convo2D Layer"
   ]
  },
  {
   "cell_type": "code",
   "execution_count": 79,
   "id": "03c4bdf5",
   "metadata": {},
   "outputs": [],
   "source": [
    "con3=layers.Conv2D(32,kernel_size=(3,3),activation=\"relu\",padding=\"same\")(nor2)\n",
    "max3=layers.MaxPool2D((2,2))(con3)\n",
    "nor3=layers.BatchNormalization(axis=-1)(max3)\n",
    "drop3=layers.Dropout(0.20)(nor3)"
   ]
  },
  {
   "cell_type": "markdown",
   "id": "a60640c3",
   "metadata": {},
   "source": [
    "#     Flatten"
   ]
  },
  {
   "cell_type": "code",
   "execution_count": 80,
   "id": "712c0616",
   "metadata": {},
   "outputs": [],
   "source": [
    "flat=layers.Flatten()(drop3)"
   ]
  },
  {
   "cell_type": "markdown",
   "id": "116badae",
   "metadata": {},
   "source": [
    "# First Dense Layer"
   ]
  },
  {
   "cell_type": "code",
   "execution_count": 81,
   "id": "1526658b",
   "metadata": {},
   "outputs": [],
   "source": [
    "hid1=layers.Dense(512,activation=\"relu\")(flat)\n",
    "nor4=layers.BatchNormalization(axis=-1)(hid1)\n",
    "drop4=layers.Dropout(0.20)(nor4)"
   ]
  },
  {
   "cell_type": "markdown",
   "id": "ded8e594",
   "metadata": {},
   "source": [
    "# Second Dense Layer"
   ]
  },
  {
   "cell_type": "code",
   "execution_count": 82,
   "id": "54f98332",
   "metadata": {},
   "outputs": [],
   "source": [
    "hid2=layers.Dense(256,activation=\"relu\")(nor4)\n",
    "nor5=layers.BatchNormalization(axis=-1)(hid2)\n",
    "drop5=layers.Dropout(0.20)(nor5)"
   ]
  },
  {
   "cell_type": "markdown",
   "id": "89178993",
   "metadata": {},
   "source": [
    "# Third Dense Layer"
   ]
  },
  {
   "cell_type": "code",
   "execution_count": 83,
   "id": "162747f5",
   "metadata": {},
   "outputs": [],
   "source": [
    "hid3=layers.Dense(128,activation=\"relu\")(nor5)\n",
    "nor6=layers.BatchNormalization(axis=-1)(hid3)\n",
    "drop6=layers.Dropout(0.20)(nor6)"
   ]
  },
  {
   "cell_type": "markdown",
   "id": "c029517a",
   "metadata": {},
   "source": [
    "# Output Layer"
   ]
  },
  {
   "cell_type": "code",
   "execution_count": 84,
   "id": "4e5bfa8a",
   "metadata": {},
   "outputs": [
    {
     "name": "stdout",
     "output_type": "stream",
     "text": [
      "Model: \"model\"\n",
      "_________________________________________________________________\n",
      "Layer (type)                 Output Shape              Param #   \n",
      "=================================================================\n",
      "input_1 (InputLayer)         [(None, 128, 128, 3)]     0         \n",
      "_________________________________________________________________\n",
      "conv2d (Conv2D)              (None, 128, 128, 32)      896       \n",
      "_________________________________________________________________\n",
      "max_pooling2d (MaxPooling2D) (None, 64, 64, 32)        0         \n",
      "_________________________________________________________________\n",
      "batch_normalization (BatchNo (None, 64, 64, 32)        128       \n",
      "_________________________________________________________________\n",
      "conv2d_1 (Conv2D)            (None, 64, 64, 32)        9248      \n",
      "_________________________________________________________________\n",
      "max_pooling2d_1 (MaxPooling2 (None, 32, 32, 32)        0         \n",
      "_________________________________________________________________\n",
      "batch_normalization_1 (Batch (None, 32, 32, 32)        128       \n",
      "_________________________________________________________________\n",
      "conv2d_2 (Conv2D)            (None, 32, 32, 32)        9248      \n",
      "_________________________________________________________________\n",
      "max_pooling2d_2 (MaxPooling2 (None, 16, 16, 32)        0         \n",
      "_________________________________________________________________\n",
      "batch_normalization_2 (Batch (None, 16, 16, 32)        128       \n",
      "_________________________________________________________________\n",
      "dropout_2 (Dropout)          (None, 16, 16, 32)        0         \n",
      "_________________________________________________________________\n",
      "flatten (Flatten)            (None, 8192)              0         \n",
      "_________________________________________________________________\n",
      "dense (Dense)                (None, 512)               4194816   \n",
      "_________________________________________________________________\n",
      "batch_normalization_3 (Batch (None, 512)               2048      \n",
      "_________________________________________________________________\n",
      "dense_1 (Dense)              (None, 256)               131328    \n",
      "_________________________________________________________________\n",
      "batch_normalization_4 (Batch (None, 256)               1024      \n",
      "_________________________________________________________________\n",
      "dense_2 (Dense)              (None, 256)               65792     \n",
      "_________________________________________________________________\n",
      "batch_normalization_5 (Batch (None, 256)               1024      \n",
      "_________________________________________________________________\n",
      "dropout_5 (Dropout)          (None, 256)               0         \n",
      "_________________________________________________________________\n",
      "dense_3 (Dense)              (None, 5)                 1285      \n",
      "=================================================================\n",
      "Total params: 4,417,093\n",
      "Trainable params: 4,414,853\n",
      "Non-trainable params: 2,240\n",
      "_________________________________________________________________\n"
     ]
    }
   ],
   "source": [
    "#Taken only 5 denselayers coz index starts from 0\n",
    "output=layers.Dense(5,activation=\"sigmoid\")(drop6)#Sigmoid/softmax classify the Images\n",
    "mod=Model(inputs=input_1,outputs=output)\n",
    "mod.summary()"
   ]
  },
  {
   "cell_type": "markdown",
   "id": "ef2c4b64",
   "metadata": {},
   "source": [
    "# Importing Categorical"
   ]
  },
  {
   "cell_type": "code",
   "execution_count": 85,
   "id": "0112c693",
   "metadata": {},
   "outputs": [],
   "source": [
    "from tensorflow.keras.utils import to_categorical"
   ]
  },
  {
   "cell_type": "code",
   "execution_count": 86,
   "id": "eff75fd4",
   "metadata": {},
   "outputs": [
    {
     "data": {
      "text/plain": [
       "array([1, 1, 1, ..., 4, 4, 4])"
      ]
     },
     "execution_count": 86,
     "metadata": {},
     "output_type": "execute_result"
    }
   ],
   "source": [
    "np.array(label)"
   ]
  },
  {
   "cell_type": "code",
   "execution_count": 87,
   "id": "dc8798ff",
   "metadata": {},
   "outputs": [],
   "source": [
    "label_cat=to_categorical(np.array(label))#Converted labels into categorical label"
   ]
  },
  {
   "cell_type": "code",
   "execution_count": 88,
   "id": "8c5be413",
   "metadata": {},
   "outputs": [
    {
     "data": {
      "text/plain": [
       "array([[0., 1., 0., 0., 0.],\n",
       "       [0., 1., 0., 0., 0.],\n",
       "       [0., 1., 0., 0., 0.],\n",
       "       ...,\n",
       "       [0., 0., 0., 0., 1.],\n",
       "       [0., 0., 0., 0., 1.],\n",
       "       [0., 0., 0., 0., 1.]], dtype=float32)"
      ]
     },
     "execution_count": 88,
     "metadata": {},
     "output_type": "execute_result"
    }
   ],
   "source": [
    "label_cat\n"
   ]
  },
  {
   "cell_type": "markdown",
   "id": "44085873",
   "metadata": {},
   "source": [
    "# Train_Test_Split"
   ]
  },
  {
   "cell_type": "code",
   "execution_count": 89,
   "id": "c216e856",
   "metadata": {},
   "outputs": [],
   "source": [
    "from sklearn.model_selection import train_test_split"
   ]
  },
  {
   "cell_type": "code",
   "execution_count": 90,
   "id": "7337ca13",
   "metadata": {},
   "outputs": [],
   "source": [
    "Xtrain,xtest,Ytrain,ytest=train_test_split(totaldata1,label_cat,test_size=0.20)"
   ]
  },
  {
   "cell_type": "markdown",
   "id": "9a9f62db",
   "metadata": {},
   "source": [
    "# Compiling"
   ]
  },
  {
   "cell_type": "code",
   "execution_count": 91,
   "id": "1495eb18",
   "metadata": {},
   "outputs": [],
   "source": [
    "mod.compile(optimizer=\"adam\",loss=\"categorical_crossentropy\",metrics=[\"accuracy\"])"
   ]
  },
  {
   "cell_type": "markdown",
   "id": "b5401cad",
   "metadata": {},
   "source": [
    "# Fitting"
   ]
  },
  {
   "cell_type": "code",
   "execution_count": 92,
   "id": "25d25cef",
   "metadata": {
    "scrolled": true
   },
   "outputs": [
    {
     "name": "stdout",
     "output_type": "stream",
     "text": [
      "Epoch 1/10\n",
      "101/101 [==============================] - 521s 5s/step - loss: 0.5258 - accuracy: 0.8236 - val_loss: 1.4837 - val_accuracy: 0.5908\n",
      "Epoch 2/10\n",
      "101/101 [==============================] - 537s 5s/step - loss: 0.2222 - accuracy: 0.9214 - val_loss: 0.7126 - val_accuracy: 0.7765\n",
      "Epoch 3/10\n",
      "101/101 [==============================] - 1634s 16s/step - loss: 0.1338 - accuracy: 0.9489 - val_loss: 0.3685 - val_accuracy: 0.8911\n",
      "Epoch 4/10\n",
      "101/101 [==============================] - 165s 2s/step - loss: 0.1108 - accuracy: 0.9585 - val_loss: 0.6806 - val_accuracy: 0.8534\n",
      "Epoch 5/10\n",
      "101/101 [==============================] - 167s 2s/step - loss: 0.0704 - accuracy: 0.9772 - val_loss: 0.6062 - val_accuracy: 0.8422\n",
      "Epoch 6/10\n",
      "101/101 [==============================] - 173s 2s/step - loss: 0.0419 - accuracy: 0.9856 - val_loss: 3.1683 - val_accuracy: 0.6215\n",
      "Epoch 7/10\n",
      "101/101 [==============================] - 173s 2s/step - loss: 0.0461 - accuracy: 0.9852 - val_loss: 6.2208 - val_accuracy: 0.5028\n",
      "Epoch 8/10\n",
      "101/101 [==============================] - 165s 2s/step - loss: 0.0342 - accuracy: 0.9873 - val_loss: 5.9861 - val_accuracy: 0.5265\n",
      "Epoch 9/10\n",
      "101/101 [==============================] - 172s 2s/step - loss: 0.0254 - accuracy: 0.9918 - val_loss: 1.1084 - val_accuracy: 0.7891\n",
      "Epoch 10/10\n",
      "101/101 [==============================] - 175s 2s/step - loss: 0.0399 - accuracy: 0.9871 - val_loss: 1.8671 - val_accuracy: 0.7095\n"
     ]
    },
    {
     "data": {
      "text/plain": [
       "<keras.callbacks.History at 0x1084cb69b80>"
      ]
     },
     "execution_count": 92,
     "metadata": {},
     "output_type": "execute_result"
    }
   ],
   "source": [
    "mod.fit(np.array(Xtrain),Ytrain,epochs=10,batch_size=64,verbose=1,shuffle=False,validation_split=0.1)"
   ]
  },
  {
   "cell_type": "code",
   "execution_count": 94,
   "id": "92977c80",
   "metadata": {},
   "outputs": [
    {
     "name": "stdout",
     "output_type": "stream",
     "text": [
      "56/56 [==============================] - 15s 260ms/step - loss: 1.7210 - accuracy: 0.7311\n"
     ]
    },
    {
     "data": {
      "text/plain": [
       "[1.7209504842758179, 0.7311347126960754]"
      ]
     },
     "execution_count": 94,
     "metadata": {},
     "output_type": "execute_result"
    }
   ],
   "source": [
    "mod.evaluate(np.array(xtest),ytest)"
   ]
  },
  {
   "cell_type": "markdown",
   "id": "fae93703",
   "metadata": {},
   "source": [
    "# Image Prediction"
   ]
  },
  {
   "cell_type": "markdown",
   "id": "df4209e6",
   "metadata": {},
   "source": [
    "# Predicting the sunrise Image"
   ]
  },
  {
   "cell_type": "code",
   "execution_count": 102,
   "id": "02a2fb67",
   "metadata": {
    "scrolled": false
   },
   "outputs": [],
   "source": [
    "sunrise1=cv2.imread(\"C:\\\\Users\\\\prata\\\\Desktop\\\\at_sunrise_515562.jpg\")"
   ]
  },
  {
   "cell_type": "code",
   "execution_count": 103,
   "id": "4b882d7d",
   "metadata": {},
   "outputs": [
    {
     "data": {
      "text/plain": [
       "(400, 600, 3)"
      ]
     },
     "execution_count": 103,
     "metadata": {},
     "output_type": "execute_result"
    }
   ],
   "source": [
    "sunrise1.shape"
   ]
  },
  {
   "cell_type": "code",
   "execution_count": 104,
   "id": "ce4d9dcd",
   "metadata": {
    "scrolled": false
   },
   "outputs": [],
   "source": [
    "img_sunrise=cv2.resize(sunrise1,(128,128))#Resizing the image"
   ]
  },
  {
   "cell_type": "code",
   "execution_count": 106,
   "id": "57281357",
   "metadata": {},
   "outputs": [],
   "source": [
    "img_sunrise=np.array(sunrise1)"
   ]
  },
  {
   "cell_type": "code",
   "execution_count": 107,
   "id": "96442258",
   "metadata": {},
   "outputs": [],
   "source": [
    "img_sunrise=np.array(img_sunrise,dtype=\"float\")/255.0#converting into float"
   ]
  },
  {
   "cell_type": "code",
   "execution_count": 108,
   "id": "7c44b676",
   "metadata": {
    "scrolled": false
   },
   "outputs": [
    {
     "data": {
      "text/plain": [
       "<matplotlib.image.AxesImage at 0x1084f2c9be0>"
      ]
     },
     "execution_count": 108,
     "metadata": {},
     "output_type": "execute_result"
    },
    {
     "data": {
      "image/png": "[encoded data removed]",
      "text/plain": [
       "<Figure size 432x288 with 1 Axes>"
      ]
     },
     "metadata": {
      "needs_background": "light"
     },
     "output_type": "display_data"
    }
   ],
   "source": [
    "plt.imshow(img_sunrise)"
   ]
  },
  {
   "cell_type": "code",
   "execution_count": null,
   "id": "8ef37df3",
   "metadata": {},
   "outputs": [],
   "source": [
    "img_sunrise=img_sunrise.reshape(1,128,128,3)#Reshaping"
   ]
  },
  {
   "cell_type": "code",
   "execution_count": null,
   "id": "f4d50e2a",
   "metadata": {},
   "outputs": [],
   "source": [
    "img_sunrise.shape"
   ]
  },
  {
   "cell_type": "code",
   "execution_count": null,
   "id": "7df6563c",
   "metadata": {},
   "outputs": [],
   "source": [
    "np.argmax(mod.predict(img_sunrise))#predicting the image"
   ]
  },
  {
   "cell_type": "markdown",
   "id": "fe37f539",
   "metadata": {},
   "source": [
    "# Predicting the Rain Image"
   ]
  },
  {
   "cell_type": "code",
   "execution_count": 109,
   "id": "b449a296",
   "metadata": {},
   "outputs": [],
   "source": [
    "Rain1=cv2.imread(\"C:\\\\Users\\\\prata\\\\Desktop\\\\surface-455124__480.jpg\")"
   ]
  },
  {
   "cell_type": "code",
   "execution_count": 110,
   "id": "d7593df0",
   "metadata": {},
   "outputs": [
    {
     "data": {
      "text/plain": [
       "(480, 826, 3)"
      ]
     },
     "execution_count": 110,
     "metadata": {},
     "output_type": "execute_result"
    }
   ],
   "source": [
    "Rain1.shape"
   ]
  },
  {
   "cell_type": "code",
   "execution_count": 111,
   "id": "c62a1ade",
   "metadata": {},
   "outputs": [],
   "source": [
    "img_rain=cv2.resize(Rain1,(128,128))"
   ]
  },
  {
   "cell_type": "code",
   "execution_count": 112,
   "id": "4d5bd5d6",
   "metadata": {},
   "outputs": [],
   "source": [
    "img_rain=np.array(img_rain)"
   ]
  },
  {
   "cell_type": "code",
   "execution_count": 113,
   "id": "fba0dc64",
   "metadata": {},
   "outputs": [],
   "source": [
    "img_rain=np.array(img_rain,dtype=\"float\")/255.0"
   ]
  },
  {
   "cell_type": "code",
   "execution_count": 114,
   "id": "4fd7e445",
   "metadata": {},
   "outputs": [
    {
     "data": {
      "text/plain": [
       "<matplotlib.image.AxesImage at 0x10864ab9a30>"
      ]
     },
     "execution_count": 114,
     "metadata": {},
     "output_type": "execute_result"
    },
    {
     "data": {
      "image/png": "[encoded data removed]",
      "text/plain": [
       "<Figure size 432x288 with 1 Axes>"
      ]
     },
     "metadata": {
      "needs_background": "light"
     },
     "output_type": "display_data"
    }
   ],
   "source": [
    "plt.imshow(img_rain)"
   ]
  },
  {
   "cell_type": "code",
   "execution_count": 116,
   "id": "8f2d16d8",
   "metadata": {},
   "outputs": [],
   "source": [
    "img_rain=img_rain.reshape(1,128,128,3)"
   ]
  },
  {
   "cell_type": "code",
   "execution_count": 117,
   "id": "8205dacf",
   "metadata": {},
   "outputs": [
    {
     "data": {
      "text/plain": [
       "(1, 128, 128, 3)"
      ]
     },
     "execution_count": 117,
     "metadata": {},
     "output_type": "execute_result"
    }
   ],
   "source": [
    "img_rain.shape"
   ]
  },
  {
   "cell_type": "code",
   "execution_count": 118,
   "id": "eca97b94",
   "metadata": {},
   "outputs": [
    {
     "data": {
      "text/plain": [
       "1"
      ]
     },
     "execution_count": 118,
     "metadata": {},
     "output_type": "execute_result"
    }
   ],
   "source": [
    "np.argmax(mod.predict(img_rain))"
   ]
  },
  {
   "cell_type": "code",
   "execution_count": null,
   "id": "0d585e6d",
   "metadata": {},
   "outputs": [],
   "source": []
  }
 ],
 "metadata": {
  "kernelspec": {
   "display_name": "Python 3",
   "language": "python",
   "name": "python3"
  },
  "language_info": {
   "codemirror_mode": {
    "name": "ipython",
    "version": 3
   },
   "file_extension": ".py",
   "mimetype": "text/x-python",
   "name": "python",
   "nbconvert_exporter": "python",
   "pygments_lexer": "ipython3",
   "version": "3.8.8"
  }
 },
 "nbformat": 4,
 "nbformat_minor": 5
}
